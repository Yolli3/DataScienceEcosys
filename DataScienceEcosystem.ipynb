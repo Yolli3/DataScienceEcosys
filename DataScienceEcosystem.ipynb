{
 "cells": [
  {
   "cell_type": "markdown",
   "id": "2f6cd1b3",
   "metadata": {},
   "source": [
    "# Data Science Tools and Ecosystems"
   ]
  },
  {
   "cell_type": "markdown",
   "id": "e48f0fd2",
   "metadata": {},
   "source": [
    "Introduction. In this notebook, Data Science Tools and Ecosystem are summarired."
   ]
  },
  {
   "cell_type": "markdown",
   "id": "043416fc",
   "metadata": {},
   "source": [
    "**Objectives**\n",
    "\n",
    " - Libraries used in Data Science\n",
    " - Data Science Tools\n",
    " - Languages used by Data Scientists\n",
    " - Arithmetic Expressions"
   ]
  },
  {
   "cell_type": "markdown",
   "id": "23321bbe",
   "metadata": {},
   "source": [
    "Some of the popular langauges that Data Scientists use are:\n",
    "\n",
    "    1 Python\n",
    "    2 Scala\n",
    "    3 Java\n",
    " "
   ]
  },
  {
   "cell_type": "markdown",
   "id": "73d4d928",
   "metadata": {},
   "source": [
    "Some of the commonly used libraries used by Data Scientists include:\n",
    "\n",
    "    1 NumPy\n",
    "    2 Panda\n",
    "    3 Tensorflow"
   ]
  },
  {
   "cell_type": "markdown",
   "id": "be79887f",
   "metadata": {},
   "source": [
    "| Data Science Tools |\n",
    "| :- |\n",
    "| Data Management |\n",
    "| Data Intergration and Transformation |\n",
    "| Data Visualization |\n",
    "| Model Building |\n",
    "| Model Deployment |\n",
    "| Model Monitoting and Assessment |"
   ]
  },
  {
   "cell_type": "markdown",
   "id": "ad2e5fcf",
   "metadata": {},
   "source": [
    "Below are a few examples of evaluating arithmetic expressions in Python."
   ]
  },
  {
   "cell_type": "code",
   "execution_count": 8,
   "id": "fe9d2a87",
   "metadata": {},
   "outputs": [
    {
     "data": {
      "text/plain": [
       "17"
      ]
     },
     "execution_count": 8,
     "metadata": {},
     "output_type": "execute_result"
    }
   ],
   "source": [
    "# this is a simple arithmetic expression to multiply and add integers\n",
    "\n",
    "(3*4)+5"
   ]
  },
  {
   "cell_type": "code",
   "execution_count": 9,
   "id": "f1896e37",
   "metadata": {},
   "outputs": [
    {
     "data": {
      "text/plain": [
       "3.3333333333333335"
      ]
     },
     "execution_count": 9,
     "metadata": {},
     "output_type": "execute_result"
    }
   ],
   "source": [
    "# this will convert 200 minutes into hours\n",
    "\n",
    "200/60"
   ]
  },
  {
   "cell_type": "markdown",
   "id": "64bc68e2",
   "metadata": {},
   "source": [
    "# Author \n",
    "\n",
    "Yolanda Matewa"
   ]
  }
 ],
 "metadata": {
  "kernelspec": {
   "display_name": "Python 3 (ipykernel)",
   "language": "python",
   "name": "python3"
  },
  "language_info": {
   "codemirror_mode": {
    "name": "ipython",
    "version": 3
   },
   "file_extension": ".py",
   "mimetype": "text/x-python",
   "name": "python",
   "nbconvert_exporter": "python",
   "pygments_lexer": "ipython3",
   "version": "3.10.9"
  }
 },
 "nbformat": 4,
 "nbformat_minor": 5
}
